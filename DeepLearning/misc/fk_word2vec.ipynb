{
 "cells": [
  {
   "cell_type": "markdown",
   "metadata": {},
   "source": [
    "# Word2Vec: an introduction\n",
    "\n",
    "Following: http://www.folgertkarsdorp.nl/word2vec-an-introduction/"
   ]
  },
  {
   "cell_type": "markdown",
   "metadata": {},
   "source": [
    "Word2Vec (Mikolov et al, 2013) is a tool for learning continuous word embeddings from raw text. It associates words with points in space, and the spatial distance between words describes the similarity between them. Words are represented by continuous vectors over `x` dimensions."
   ]
  },
  {
   "cell_type": "code",
   "execution_count": 1,
   "metadata": {
    "collapsed": false
   },
   "outputs": [
    {
     "name": "stderr",
     "output_type": "stream",
     "text": [
      "/Users/perdue/anaconda/lib/python2.7/site-packages/matplotlib/font_manager.py:273: UserWarning: Matplotlib is building the font cache using fc-list. This may take a moment.\n",
      "  warnings.warn('Matplotlib is building the font cache using fc-list. This may take a moment.')\n"
     ]
    }
   ],
   "source": [
    "import seaborn as sb\n",
    "import numpy as np"
   ]
  },
  {
   "cell_type": "code",
   "execution_count": 2,
   "metadata": {
    "collapsed": true
   },
   "outputs": [],
   "source": [
    "%matplotlib inline"
   ]
  },
  {
   "cell_type": "code",
   "execution_count": 3,
   "metadata": {
    "collapsed": false
   },
   "outputs": [
    {
     "data": {
      "image/png": "[encoded data removed]",
      "text/plain": [
       "<matplotlib.figure.Figure at 0x11841e710>"
      ]
     },
     "metadata": {},
     "output_type": "display_data"
    }
   ],
   "source": [
    "words = ['queen', 'book', 'king', 'magazine', 'car', 'bike']\n",
    "vectors = np.array([[0.1, 0.3],\n",
    "                   [-0.5, -0.1],\n",
    "                   [0.2, 0.2],\n",
    "                   [-0.3, -0.2],\n",
    "                   [-0.5, 0.4],\n",
    "                   [-0.45, 0.3]])\n",
    "sb.plt.plot(vectors[:,0], vectors[:,1], 'o')\n",
    "sb.plt.xlim(-0.6, 0.3)\n",
    "sb.plt.ylim(-0.3, 0.5)\n",
    "for word, x, y in zip(words, vectors[:,0], vectors[:,1]):\n",
    "    sb.plt.annotate(word, (x, y), size=12)"
   ]
  },
  {
   "cell_type": "markdown",
   "metadata": {},
   "source": [
    "The displacement vector describes the relationship between two words and we can often find analogies by looking for pairs of words with similar displacement vectors, e.g. `v[queen] - v[king] ~ v[woman] - v[man]`."
   ]
  },
  {
   "cell_type": "markdown",
   "metadata": {},
   "source": [
    "Word2vec learns continuous word embeddings by assuming the \"distributional hypothesis\". The means words may be characterized by words they are close to."
   ]
  },
  {
   "cell_type": "code",
   "execution_count": 4,
   "metadata": {
    "collapsed": true
   },
   "outputs": [],
   "source": [
    "import pandas as pd"
   ]
  },
  {
   "cell_type": "code",
   "execution_count": 5,
   "metadata": {
    "collapsed": false
   },
   "outputs": [
    {
     "data": {
      "text/plain": [
       "<matplotlib.text.Text at 0x11abd6c50>"
      ]
     },
     "execution_count": 5,
     "metadata": {},
     "output_type": "execute_result"
    },
    {
     "data": {
      "image/png": "[encoded data removed]",
      "text/plain": [
       "<matplotlib.figure.Figure at 0x11842f490>"
      ]
     },
     "metadata": {},
     "output_type": "display_data"
    }
   ],
   "source": [
    "s = pd.Series([0.1, 0.4, 0.01, 0.2, 0.05],\n",
    "             index=[\"pumpkin\", \"shoe\", \"tree\", \"prince\", \"luck\"])\n",
    "s.plot(kind='bar')\n",
    "sb.plt.ylabel(\"$P(w|Cinderella)$\")"
   ]
  },
  {
   "cell_type": "markdown",
   "metadata": {},
   "source": [
    "## Softmax Regression"
   ]
  },
  {
   "cell_type": "markdown",
   "metadata": {},
   "source": [
    "Word2Vec uses a neural network with one hidden layer.\n",
    "\n",
    "<img src=\"http://www.folgertkarsdorp.nl/content/images/2015/01/neural-network.png\">"
   ]
  },
  {
   "cell_type": "markdown",
   "metadata": {},
   "source": [
    "The model considers each word along with a given context, e.g., $w_0$ = Cinderella, and $C$ = shoe. Given a context, can we predict $w_0$? This is mutlticlass classification with as many labels as our vocabulary size. We train by minimizing the cross entropy between the network output and the target distribution (as a one-hot vector) via stochastic gradient descent.\n",
    "\n",
    "We have two weights matrices $W$ and $W'$ with dimensions $V \\times N$ and $N \\times V$ where $V$ is our vocabulary size and $N$ is the number of neurons in the hidden layer."
   ]
  },
  {
   "cell_type": "code",
   "execution_count": 6,
   "metadata": {
    "collapsed": true
   },
   "outputs": [],
   "source": [
    "sentences = [\n",
    "    'the king loves the queen',\n",
    "    'the queen loves the king',\n",
    "    'the dwarf hates the king',\n",
    "    'the queen hates the dwarf',\n",
    "    'the dwarf poisons the king',\n",
    "    'the dwarf poisons the queen'\n",
    "]"
   ]
  },
  {
   "cell_type": "code",
   "execution_count": 7,
   "metadata": {
    "collapsed": true
   },
   "outputs": [],
   "source": [
    "from collections import defaultdict"
   ]
  },
  {
   "cell_type": "code",
   "execution_count": 8,
   "metadata": {
    "collapsed": true
   },
   "outputs": [],
   "source": [
    "def Vocabulary():\n",
    "    dictionary = defaultdict()\n",
    "    dictionary.default_factory = lambda: len(dictionary)\n",
    "    return dictionary\n",
    "\n",
    "def docs2bow(docs, dictionary):\n",
    "    \"\"\"\n",
    "    transform a list of strings into a list of lists with each unique item converted\n",
    "    into a unique integer (equal to the order of first appearance for a word in the corpus)\n",
    "    \"\"\"\n",
    "    # what is below is slicker way of doing this thing:\n",
    "    # retd = []\n",
    "    # for doc in docs:\n",
    "    #     retd.append([dictionary[word] for word in doc.split()])\n",
    "    # return retd\n",
    "    # ok, but this is cooler:\n",
    "    for doc in docs:\n",
    "        yield [dictionary[word] for word in doc.split()]"
   ]
  },
  {
   "cell_type": "code",
   "execution_count": 9,
   "metadata": {
    "collapsed": true
   },
   "outputs": [],
   "source": [
    "vocabulary = Vocabulary()\n",
    "sentences_bow = list(docs2bow(sentences, vocabulary))"
   ]
  },
  {
   "cell_type": "code",
   "execution_count": 10,
   "metadata": {
    "collapsed": false
   },
   "outputs": [
    {
     "data": {
      "text/plain": [
       "[[0, 1, 2, 0, 3],\n",
       " [0, 3, 2, 0, 1],\n",
       " [0, 4, 5, 0, 1],\n",
       " [0, 3, 5, 0, 4],\n",
       " [0, 4, 6, 0, 1],\n",
       " [0, 4, 6, 0, 3]]"
      ]
     },
     "execution_count": 10,
     "metadata": {},
     "output_type": "execute_result"
    }
   ],
   "source": [
    "sentences_bow"
   ]
  },
  {
   "cell_type": "code",
   "execution_count": 11,
   "metadata": {
    "collapsed": false
   },
   "outputs": [
    {
     "data": {
      "text/plain": [
       "defaultdict(<function __main__.<lambda>>,\n",
       "            {'dwarf': 4,\n",
       "             'hates': 5,\n",
       "             'king': 1,\n",
       "             'loves': 2,\n",
       "             'poisons': 6,\n",
       "             'queen': 3,\n",
       "             'the': 0})"
      ]
     },
     "execution_count": 11,
     "metadata": {},
     "output_type": "execute_result"
    }
   ],
   "source": [
    "vocabulary"
   ]
  },
  {
   "cell_type": "markdown",
   "metadata": {},
   "source": [
    "We may now construct $W$ and $W'$:"
   ]
  },
  {
   "cell_type": "code",
   "execution_count": 12,
   "metadata": {
    "collapsed": true
   },
   "outputs": [],
   "source": [
    "V, N = len(vocabulary), 3\n",
    "WI = (np.random.random((V, N)) - 0.5) / N\n",
    "WO = (np.random.random((N, V)) - 0.5) / N"
   ]
  },
  {
   "cell_type": "code",
   "execution_count": 13,
   "metadata": {
    "collapsed": false
   },
   "outputs": [
    {
     "name": "stdout",
     "output_type": "stream",
     "text": [
      "(7, 3)\n",
      "(3, 7)\n"
     ]
    }
   ],
   "source": [
    "print np.shape(WI)\n",
    "print np.shape(WO)"
   ]
  },
  {
   "cell_type": "code",
   "execution_count": 14,
   "metadata": {
    "collapsed": false
   },
   "outputs": [
    {
     "data": {
      "text/plain": [
       "array([[ 0.14256685,  0.07760353, -0.08811524],\n",
       "       [ 0.02855081,  0.10705906,  0.12814954],\n",
       "       [ 0.01072809,  0.03650268,  0.08153707],\n",
       "       [-0.14193338, -0.02325736, -0.13493665],\n",
       "       [-0.11538327, -0.09355099, -0.09103295],\n",
       "       [-0.11477681, -0.03040523, -0.07367318],\n",
       "       [ 0.09000847, -0.0269599 , -0.15371617]])"
      ]
     },
     "execution_count": 14,
     "metadata": {},
     "output_type": "execute_result"
    }
   ],
   "source": [
    "WI"
   ]
  },
  {
   "cell_type": "code",
   "execution_count": 15,
   "metadata": {
    "collapsed": false
   },
   "outputs": [
    {
     "data": {
      "text/plain": [
       "array([[-0.11035288, -0.09358348, -0.11186635, -0.01527572, -0.14394198,\n",
       "         0.06560251,  0.00589856],\n",
       "       [ 0.05008315, -0.07036849,  0.07293546, -0.09941825, -0.10766639,\n",
       "         0.10530506,  0.04712601],\n",
       "       [ 0.10166214, -0.14258583,  0.05384612, -0.10994551, -0.01022062,\n",
       "         0.03903154, -0.056038  ]])"
      ]
     },
     "execution_count": 15,
     "metadata": {},
     "output_type": "execute_result"
    }
   ],
   "source": [
    "WO"
   ]
  },
  {
   "cell_type": "markdown",
   "metadata": {},
   "source": [
    "Each row $i$ in $W$ corresponds to a word $i$ and each column $j$ corresponds to the $j$th dimension ($j$th hidden neuron)."
   ]
  },
  {
   "cell_type": "markdown",
   "metadata": {
    "collapsed": true
   },
   "source": [
    "With these matrices we can compute the distance between an input word and the probability an output is a given value. For example, if the input is 'dwarf', what is the probability the output is 'hates'? The dot of the matrices gives us a \"distance\":"
   ]
  },
  {
   "cell_type": "code",
   "execution_count": 16,
   "metadata": {
    "collapsed": false
   },
   "outputs": [
    {
     "data": {
      "text/plain": [
       "4"
      ]
     },
     "execution_count": 16,
     "metadata": {},
     "output_type": "execute_result"
    }
   ],
   "source": [
    "vocabulary['dwarf']"
   ]
  },
  {
   "cell_type": "code",
   "execution_count": 17,
   "metadata": {
    "collapsed": false
   },
   "outputs": [
    {
     "data": {
      "text/plain": [
       "array([-0.11538327, -0.09355099, -0.09103295])"
      ]
     },
     "execution_count": 17,
     "metadata": {},
     "output_type": "execute_result"
    }
   ],
   "source": [
    "WI[vocabulary['dwarf']]"
   ]
  },
  {
   "cell_type": "code",
   "execution_count": 18,
   "metadata": {
    "collapsed": false
   },
   "outputs": [
    {
     "data": {
      "text/plain": [
       "array([ 0.06560251,  0.10530506,  0.03903154])"
      ]
     },
     "execution_count": 18,
     "metadata": {},
     "output_type": "execute_result"
    }
   ],
   "source": [
    "WO.T[vocabulary['hates']]"
   ]
  },
  {
   "cell_type": "code",
   "execution_count": 19,
   "metadata": {
    "collapsed": false
   },
   "outputs": [
    {
     "name": "stdout",
     "output_type": "stream",
     "text": [
      "-0.0209739800237\n"
     ]
    }
   ],
   "source": [
    "print np.dot(WI[vocabulary['dwarf']], WO.T[vocabulary['hates']])"
   ]
  },
  {
   "cell_type": "code",
   "execution_count": 20,
   "metadata": {
    "collapsed": false
   },
   "outputs": [
    {
     "name": "stdout",
     "output_type": "stream",
     "text": [
      "king 0.0303610182723\n",
      "dwarf 0.0276112058126\n",
      "queen 0.0210719019858\n",
      "poisons 1.20245642558e-05\n",
      "loves 0.00118255058962\n",
      "the -0.00120705654063\n",
      "hates -0.0209739800237\n"
     ]
    }
   ],
   "source": [
    "for word in vocabulary.keys():\n",
    "    print word, np.dot(WI[vocabulary['dwarf']], WO.T[vocabulary[word]])"
   ]
  },
  {
   "cell_type": "markdown",
   "metadata": {},
   "source": [
    "Using a softmax function, we can trasnform these outputs into probabilities across our whole vocabulary:\n",
    "\n",
    "\\begin{equation}\n",
    "P(w_O|w_I) = y_i = \\frac{exp(W_I \\cdot W_{O}^{'T})}{\\sum_{j=1}^{V} exp(W_I \\cdot W_{j}^{'T})}\n",
    "\\end{equation}"
   ]
  },
  {
   "cell_type": "code",
   "execution_count": 21,
   "metadata": {
    "collapsed": false
   },
   "outputs": [],
   "source": [
    "p = np.exp(-np.dot(WI[vocabulary['dwarf']], WO.T[vocabulary['hates']])) / \\\n",
    "    sum(np.exp(-np.dot(WI[vocabulary['dwarf']], WO.T[vocabulary[w]])) for w in vocabulary)"
   ]
  },
  {
   "cell_type": "code",
   "execution_count": 22,
   "metadata": {
    "collapsed": false
   },
   "outputs": [
    {
     "name": "stdout",
     "output_type": "stream",
     "text": [
      "0.147078088345\n"
     ]
    }
   ],
   "source": [
    "print p"
   ]
  },
  {
   "cell_type": "code",
   "execution_count": 23,
   "metadata": {
    "collapsed": false
   },
   "outputs": [
    {
     "data": {
      "text/plain": [
       "0.14285714285714285"
      ]
     },
     "execution_count": 23,
     "metadata": {},
     "output_type": "execute_result"
    }
   ],
   "source": [
    "1/7."
   ]
  },
  {
   "cell_type": "markdown",
   "metadata": {},
   "source": [
    "## Updating the hidden-to-output layer weights"
   ]
  },
  {
   "cell_type": "markdown",
   "metadata": {},
   "source": [
    "Word2Vec initially embeds words randomly, so we must learn better positions. We train by minimizing a loss function, $E = - \\log P(w_O | w_I)$. Given the one-hot target distribution, $t$, the error may be computed as $t_j - y_j = e_j$, where $t_j$ is 1 iff $w_j$ is the actual output word.\n",
    "\n",
    "To obtain the gradient on the hidden-to-output weights, we compute $e_j \\cdot h_i$, where $h_i$ is a copy of the vector for the input word (this is true only with the context of a single word). Then we may use stochastic gradient descent with learning rate $\\nu$ to obtain an update equation for the hidden-to-output weights:\n",
    "\n",
    "\\begin{equation}\n",
    "W_{j}^{'T(t)} = W_{j}^{'T(t-1)} - \\nu \\cdot e_j \\cdot h_j \n",
    "\\end{equation}"
   ]
  },
  {
   "cell_type": "code",
   "execution_count": 24,
   "metadata": {
    "collapsed": false
   },
   "outputs": [
    {
     "name": "stdout",
     "output_type": "stream",
     "text": [
      "0.139511454877 king 1 0.860488545123\n",
      "0.140891857345 dwarf 0 -0.140891857345\n",
      "0.14159770185 queen 0 -0.14159770185\n",
      "0.143549169417 poisons 0 -0.143549169417\n",
      "0.143364523437 loves 0 -0.143364523437\n",
      "0.14424683487 the 0 -0.14424683487\n",
      "0.146838458205 hates 0 -0.146838458205\n"
     ]
    }
   ],
   "source": [
    "target_word = 'king'\n",
    "input_word = 'queen'\n",
    "learning_rate = 1.0\n",
    "\n",
    "for word in vocabulary:\n",
    "    p_word_queen = (\n",
    "        np.exp(-np.dot(WO.T[vocabulary[word]], WI[vocabulary[input_word]])) / \n",
    "            sum(np.exp(-np.dot(WO.T[vocabulary[w]], WI[vocabulary[input_word]])) for w in vocabulary)\n",
    "    )\n",
    "    t = 1 if word == target_word else 0\n",
    "    error = t - p_word_queen\n",
    "    print p_word_queen, word, t, error"
   ]
  },
  {
   "cell_type": "code",
   "execution_count": 25,
   "metadata": {
    "collapsed": false
   },
   "outputs": [
    {
     "name": "stdout",
     "output_type": "stream",
     "text": [
      "0.139511454877 king 1 0.860488545123 [-0.09358348 -0.07036849 -0.14258583]\n",
      "new =  [ 0.02854857 -0.0503558  -0.02647439]\n",
      "0.140226043676 dwarf 0 -0.140226043676 [-0.14394198 -0.10766639 -0.01022062]\n",
      "new =  [-0.16384473 -0.11092768 -0.02914225]\n",
      "0.141036121117 queen 0 -0.141036121117 [-0.01527572 -0.09941825 -0.10994551]\n",
      "new =  [-0.03529345 -0.10269837 -0.12897645]\n",
      "0.143090247182 poisons 0 -0.143090247182 [ 0.00589856  0.04712601 -0.056038  ]\n",
      "new =  [-0.01441072  0.0437981  -0.07534612]\n",
      "0.143019768293 loves 0 -0.143019768293 [-0.11186635  0.07293546  0.05384612]\n",
      "new =  [-0.13216563  0.06960919  0.03454751]\n",
      "0.14401421202 the 0 -0.14401421202 [-0.11035288  0.05008315  0.10166214]\n",
      "new =  [-0.1307933   0.04673376  0.08222934]\n",
      "0.146719678387 hates 0 -0.146719678387 [ 0.06560251  0.10530506  0.03903154]\n",
      "new =  [ 0.04477809  0.10189275  0.01923368]\n",
      "[[-0.1307933   0.04673376  0.08222934]\n",
      " [ 0.02854857 -0.0503558  -0.02647439]\n",
      " [-0.13216563  0.06960919  0.03454751]\n",
      " [-0.03529345 -0.10269837 -0.12897645]\n",
      " [-0.16384473 -0.11092768 -0.02914225]\n",
      " [ 0.04477809  0.10189275  0.01923368]\n",
      " [-0.01441072  0.0437981  -0.07534612]]\n"
     ]
    }
   ],
   "source": [
    "target_word = 'king'\n",
    "input_word = 'queen'\n",
    "learning_rate = 1.0\n",
    "\n",
    "for word in vocabulary:\n",
    "    p_word_queen = (\n",
    "        np.exp(-np.dot(WO.T[vocabulary[word]], WI[vocabulary[input_word]])) / \n",
    "            sum(np.exp(-np.dot(WO.T[vocabulary[w]], WI[vocabulary[input_word]])) for w in vocabulary)\n",
    "    )\n",
    "    t = 1 if word == target_word else 0\n",
    "    error = t - p_word_queen\n",
    "    print p_word_queen, word, t, error, WO.T[vocabulary[word]]\n",
    "    WO.T[vocabulary[word]] = (\n",
    "        WO.T[vocabulary[word]] - learning_rate * error * WI[vocabulary[input_word]]\n",
    "    )\n",
    "    print \"new = \", WO.T[vocabulary[word]]\n",
    "    \n",
    "print WO.T"
   ]
  },
  {
   "cell_type": "markdown",
   "metadata": {},
   "source": [
    "## Updating the input-to-hidden layer weights"
   ]
  },
  {
   "cell_type": "markdown",
   "metadata": {},
   "source": [
    "Next we must backpropagate the prediction errors to the input-to-hidden weights. We first compute $EH$, which is an $N$-dimensional vector representing the sum of the hidden-to-ouput vectors for each word in the vocabulary weighted by their prediction error:\n",
    "\n",
    "\\begin{equation}\n",
    "\\sum_{j=1}^V e_j \\cdot W_{i,j}^{'} = EH_i\n",
    "\\end{equation}\n",
    "\n",
    "Using the learning rate $\\nu$ we update the weights with:\n",
    "\n",
    "\\begin{equation}\n",
    "W_{w_I}^{(t)} = W_{w_I}^{(t-1)} - \\nu \\cdot EH \n",
    "\\end{equation}"
   ]
  },
  {
   "cell_type": "code",
   "execution_count": 26,
   "metadata": {
    "collapsed": true
   },
   "outputs": [],
   "source": [
    "WI[vocabulary[input_word]] = WI[vocabulary[input_word]] - learning_rate * WO.sum(1)"
   ]
  },
  {
   "cell_type": "markdown",
   "metadata": {},
   "source": [
    "Now we see the probability of 'king' given 'queen' has gone up:"
   ]
  },
  {
   "cell_type": "code",
   "execution_count": 27,
   "metadata": {
    "collapsed": false
   },
   "outputs": [
    {
     "name": "stdout",
     "output_type": "stream",
     "text": [
      "king 0.139486600404\n",
      "dwarf 0.146483201397\n",
      "queen 0.141514672801\n",
      "poisons 0.14126816146\n",
      "loves 0.145938145581\n",
      "the 0.145891292642\n",
      "hates 0.139417925715\n"
     ]
    }
   ],
   "source": [
    "for word in vocabulary:\n",
    "    p = (np.exp(-np.dot(WO.T[vocabulary[word]],\n",
    "                       WI[vocabulary[input_word]])) /\n",
    "        sum(np.exp(-np.dot(WO.T[vocabulary[w]], \n",
    "                          WI[vocabulary[input_word]]))\n",
    "           for w in vocabulary))\n",
    "    print word, p"
   ]
  },
  {
   "cell_type": "markdown",
   "metadata": {},
   "source": [
    "## Multi-word context"
   ]
  },
  {
   "cell_type": "markdown",
   "metadata": {},
   "source": [
    "The model described above is the CBOW architecture of Word2Vec. But, we assumed the context $C$ was only a single input word. This allowed us to simply copy the input vector to the hidden layer. But, if $C$ is multiple words, we take the mean of their input vectors as the hidden layer:\n",
    "\n",
    "\\begin{equation}\n",
    "h = \\frac{1}{C} (W_1 + W_2 + \\cdots + W_C)\n",
    "\\end{equation}\n",
    "\n",
    "The update function remains the same, when we update the input vectors, we need to apply the update to each word in the context:\n",
    "\n",
    "\\begin{equation}\n",
    "W_{W_I}^{(t)} = W_{W_I}^{(t-1)} - \\frac{1}{C} \\cdot \\nu \\cdot EH \n",
    "\\end{equation}"
   ]
  },
  {
   "cell_type": "code",
   "execution_count": 28,
   "metadata": {
    "collapsed": true
   },
   "outputs": [],
   "source": [
    "target_word = 'king'\n",
    "context = ['queen', 'loves']\n",
    "\n",
    "h = (WI[vocabulary['queen']] + WI[vocabulary['loves']]) / 2"
   ]
  },
  {
   "cell_type": "code",
   "execution_count": 29,
   "metadata": {
    "collapsed": false
   },
   "outputs": [
    {
     "data": {
      "text/plain": [
       "array([ 0.13598794,  0.00759668,  0.03526455])"
      ]
     },
     "execution_count": 29,
     "metadata": {},
     "output_type": "execute_result"
    }
   ],
   "source": [
    "h"
   ]
  },
  {
   "cell_type": "code",
   "execution_count": 30,
   "metadata": {
    "collapsed": false
   },
   "outputs": [
    {
     "name": "stdout",
     "output_type": "stream",
     "text": [
      "[[-0.11126467 -0.08822655 -0.11261188 -0.01587416 -0.14415935  0.06388817\n",
      "   0.00490321]\n",
      " [ 0.04782468 -0.05687919  0.07070152 -0.10161356 -0.10982799  0.10296029\n",
      "   0.04487704]\n",
      " [ 0.08729353 -0.05675665  0.03961821 -0.12394062 -0.02403741  0.02418933\n",
      "  -0.07033761]]\n"
     ]
    }
   ],
   "source": [
    "for word in vocabulary:\n",
    "    p = (np.exp(-np.dot(WO.T[vocabulary[word]], h)) / \n",
    "        sum(np.exp(-np.dot(WO.T[vocabulary[w]], h))\n",
    "           for w in vocabulary))\n",
    "    t = 1 if word == target_word else 0\n",
    "    error = t - p\n",
    "    WO.T[vocabulary[word]] = (WO.T[vocabulary[word]] - learning_rate * error * h)\n",
    "    \n",
    "print WO"
   ]
  },
  {
   "cell_type": "code",
   "execution_count": 31,
   "metadata": {
    "collapsed": true
   },
   "outputs": [],
   "source": [
    "for word in context:\n",
    "    WI[vocabulary[word]] = (WI[vocabulary[word]] - (1. / len(context)) * learning_rate * WO.sum(1))"
   ]
  },
  {
   "cell_type": "code",
   "execution_count": 32,
   "metadata": {
    "collapsed": false
   },
   "outputs": [
    {
     "name": "stdout",
     "output_type": "stream",
     "text": [
      "king 0.144947901187\n",
      "dwarf 0.148342289977\n",
      "queen 0.140526540949\n",
      "poisons 0.139215599995\n",
      "loves 0.146253831606\n",
      "the 0.1457400502\n",
      "hates 0.134973786086\n"
     ]
    }
   ],
   "source": [
    "for word in vocabulary:\n",
    "    p = (np.exp(-np.dot(WO.T[vocabulary[word]],\n",
    "                       WI[vocabulary[input_word]])) /\n",
    "        sum(np.exp(-np.dot(WO.T[vocabulary[w]], \n",
    "                          WI[vocabulary[input_word]]))\n",
    "           for w in vocabulary))\n",
    "    print word, p"
   ]
  },
  {
   "cell_type": "code",
   "execution_count": null,
   "metadata": {
    "collapsed": true
   },
   "outputs": [],
   "source": []
  }
 ],
 "metadata": {
  "kernelspec": {
   "display_name": "Python 2",
   "language": "python",
   "name": "python2"
  },
  "language_info": {
   "codemirror_mode": {
    "name": "ipython",
    "version": 2
   },
   "file_extension": ".py",
   "mimetype": "text/x-python",
   "name": "python",
   "nbconvert_exporter": "python",
   "pygments_lexer": "ipython2",
   "version": "2.7.11"
  }
 },
 "nbformat": 4,
 "nbformat_minor": 0
}
